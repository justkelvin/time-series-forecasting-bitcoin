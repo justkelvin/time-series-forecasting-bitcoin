{
  "nbformat": 4,
  "nbformat_minor": 0,
  "metadata": {
    "colab": {
      "provenance": []
    },
    "kernelspec": {
      "name": "python3",
      "display_name": "Python 3"
    },
    "language_info": {
      "name": "python"
    }
  },
  "cells": [
    {
      "cell_type": "markdown",
      "source": [
        "# **Proposal for Final Project: Time Series Forecasting of Bitcoin Crypto Price**"
      ],
      "metadata": {
        "id": "Jb3dMExHqnuo"
      }
    },
    {
      "cell_type": "markdown",
      "source": [
        "Name:\n",
        "\n",
        "Student id:"
      ],
      "metadata": {
        "id": "iStFxUpzquFg"
      }
    },
    {
      "cell_type": "markdown",
      "source": [
        "# **Introduction:**\n",
        "\n",
        "Bitcoin was invented in 2009 by an anonymous person/group under the name Satoshi Nakamoto. It is a form of crypto-currency which revolutionized the way we think about money. It is a decentralized digital currency with no central bank, can be sent from user-to-user and verified by peers as it involves a public ledger. Bitcoins price started soaring from 2017 and have been high since then. By the emergence of BTC in the year 2009 with the initial value of around one dollar, no one predicted that in 8 years it would pass all previous records and would reach to the unbelievable value of $18000. BTC presents an impressive proof to this as it is a time series prediction problem in a market still in its transient stage. As a result, it is highly unpredictable in the market [4], and this provides an opportunity in terms of prediction for time-series prediction models. A time series is a series of data points indexed (or listed or graphed) in time order. Time series forecasting is the use of a model to predict future values based on previously observed values. Models for time series data can have many forms and represent different stochastic processes. When modelling variations in the level of a process, three broad classes of practical importance are the autoregressive (AR) models, the integrated (I) models, and the moving average (MA) models. These three classes depend linearly on previous data points. Thus in this paper, we have focused mainly on the combinations like ARMA, ARIMA, SARIMAX (seasonal ARIMA exogenous) using RMSE as the evaluation metric for different models.\n",
        "\n",
        "Cryptocurrencies, such as Bitcoin, have gained significant attention in recent years. The volatile nature of cryptocurrency prices poses a challenge for investors and traders who aim to predict future price movements accurately. In this project, we aim to apply time series analysis and forecasting techniques to predict the price of Bitcoin crypto. By addressing this research question, we aim to provide insights into the potential future trends of Bitcoin prices, aiding investors and market participants in their decision-making processes."
      ],
      "metadata": {
        "id": "7NWgLepfqyb7"
      }
    },
    {
      "cell_type": "markdown",
      "source": [
        "# **Research Questions:**\n",
        "\n",
        "1. Research Question 1: Can we accurately forecast the future price of Bitcoin using historical price data and time series analysis techniques?\n",
        "2. Research Question 2: What are the key factors influencing the price of Bitcoin, and can they be incorporated into the forecasting models to improve predictive accuracy?"
      ],
      "metadata": {
        "id": "dzg4aqazq8tm"
      }
    },
    {
      "cell_type": "markdown",
      "source": [
        "The results of this research can be beneficial in real-world scenarios. For example, accurate price forecasts can help investors make informed decisions regarding buying, selling, or holding Bitcoin. Furthermore, understanding the factors that drive Bitcoin prices can provide insights into market dynamics and potentially inform investment strategies or risk management approaches."
      ],
      "metadata": {
        "id": "fb0cpwAPrE07"
      }
    },
    {
      "cell_type": "markdown",
      "source": [
        "# **Data to be Used:**\n",
        "\n",
        "We will utilize historical price data of Bitcoin obtained from Yahoo Finance. Yahoo Finance provides a reliable and comprehensive source of cryptocurrency data, including daily price information and trading volumes. We will collect the data by using the \"yfinance\" library in Python, which allows us to access and download historical price data for Bitcoin."
      ],
      "metadata": {
        "id": "iUCRWR9LrHU9"
      }
    },
    {
      "cell_type": "markdown",
      "source": [
        "# **Approach:**\n",
        "\n",
        "1. Data Management: The collected historical price data will be stored in a structured format, such as a pandas DataFrame, for efficient data handling and analysis.\n",
        "\n",
        "2. Statistical Analysis: We will apply various time series analysis techniques, including trend analysis, seasonality decomposition, and autocorrelation analysis, to explore the patterns and dynamics within the Bitcoin price data. We will use statistical methods such as moving averages, exponential smoothing, and ARIMA (AutoRegressive Integrated Moving Average) models to build time series forecasting models.\n",
        "\n",
        "3. Visualization: To aid in the interpretation and communication of our findings, we will generate visualizations such as line plots, scatter plots, and interactive charts. These visualizations will provide insights into the historical price trends, seasonality, and forecasted price movements."
      ],
      "metadata": {
        "id": "4YoVmaN0rNI5"
      }
    },
    {
      "cell_type": "markdown",
      "source": [
        "4. Machine Learning Models: We will construct three distinct types of machine learning models to predict Bitcoin prices:\n",
        "\n",
        "* ARIMA Model: A traditional time series forecasting model that captures the autocorrelation and seasonality patterns in the data.\n",
        "* Long Short-Term Memory (LSTM) Neural Network: A deep learning model specifically designed for sequential data that can capture long-term dependencies and patterns.\n",
        "* XGBoost Model: A gradient boosting model that combines weak learners to make accurate predictions.\n",
        "\n",
        "Each model will be trained and evaluated independently using appropriate performance metrics such as mean squared error (MSE) or mean absolute percentage error (MAPE). The model with the best performance will be identified.\n",
        "\n",
        "- **Ensemble Model**: We will create an ensemble model by combining the predictions from the individual models. This ensemble model will aim to leverage the strengths of each model and potentially improve the overall prediction accuracy.\n",
        "\n",
        "Feasibility: We believe that the proposed project is realistic and feasible within the given time frame. The availability of historical Bitcoin price data from Yahoo Finance and the existing libraries and tools for time series analysis and machine learning will support the project's implementation. Effective task management, coordination among team members, and regular progress tracking will ensure successful completion within the allotted time."
      ],
      "metadata": {
        "id": "4Ui3LW7SrWvl"
      }
    },
    {
      "cell_type": "markdown",
      "source": [
        "# **Roles and Responsibilities:**\n",
        "\n",
        "Team Member 1: Responsible for data collection from Yahoo Finance and preprocessing of the Bitcoin price data.\n",
        "Team Member 2: Tasked with implementing and evaluating the ARIMA model and conducting statistical analysis.\n",
        "Team Member 3: Responsible for implementing and evaluating the LSTM neural network model and generating visualizations.\n",
        "\n",
        "\n",
        "Each team member brings relevant skills and expertise to the project, including experience in data analysis, machine learning, time series forecasting, and programming in Python. Collaboration, effective communication, and division of tasks will ensure the successful completion of the project."
      ],
      "metadata": {
        "id": "pd4Ejcc4rn_y"
      }
    },
    {
      "cell_type": "markdown",
      "source": [
        "# **References**\n",
        "\n",
        "[1] Rob J Hyndman, “Forecasting: Principles and Practice,” no.\n",
        "September, 2014.\n",
        "\n",
        "[2] Agrawal J, Chourasia V, Mittra A. 2013. State-of-the-art in\n",
        "stock prediction techniques. International Journal of\n",
        "Advanced Research in Electrical, Electronics and\n",
        "Instrumentation Engineering 2(4):1360–1366.\n",
        "\n",
        "[3] Kazem A, Sharifi E, Hussain FK, Morteza S, Hussain OK.\n",
        "2013. Support vector regression with chaos-based firefly\n",
        "algorithm for stock market price forecasting. Applied soft\n",
        "computing 13(2):947–958.\n",
        "\n",
        "[4] R. A. Juanda, Jondri, and A. A. Rohmawati, “Bitcoin Price\n",
        "Prediction by Using Recurrent Neural Network,” eProceeding Eng., vol. 5, no. 2, pp. 3682–3690, 2018.\n",
        "\n",
        "[5] R. Albariqi, “Bitcoin Price Change Prediction Using\n",
        "Artificial Neural Network,” 2018.\n",
        "\n",
        "[6] Naimy VY, Hayek MR. 2018. Modelling and predicting the\n",
        "Bitcoin volatility using GARCH models. International\n",
        "Journal of Mathematical Modelling and Numerical\n",
        "Optimisation 8:197–215 DOI\n",
        "10.1504/IJMMNO.2018.088994.\n",
        "\n",
        "[7] G. S. Lilipaly, D. Hatidja, and J. S. Kekenusa, “Stake Price\n",
        "Prediction Using ARIMA Method at PT. BRI, TBK.,” J. Ilm.\n",
        "Sains, vol. 14, pp. 61–66, 2014.\n",
        "\n",
        "[8] Bakar N, Rosbi S. 2017. Autoregressive Integrated Moving\n",
        "Average (ARIMA) model for forecasting cryptocurrency\n",
        "exchange rate in high volatility environment: a new insight\n",
        "of Bitcoin transaction. International Journal of Advanced\n",
        "Engineering Research and Science 4(11):130–137 DOI\n",
        "10.22161/ijaers.4.11.20.\n"
      ],
      "metadata": {
        "id": "U57wOb1Art15"
      }
    }
  ]
}